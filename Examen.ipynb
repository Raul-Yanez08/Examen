{
  "nbformat": 4,
  "nbformat_minor": 0,
  "metadata": {
    "colab": {
      "name": "Examen.ipynb",
      "provenance": [],
      "collapsed_sections": []
    },
    "kernelspec": {
      "name": "python3",
      "display_name": "Python 3"
    }
  },
  "cells": [
    {
      "cell_type": "markdown",
      "metadata": {
        "id": "J7vaeQIkoN7d"
      },
      "source": [
        "Ejercicio 1"
      ]
    },
    {
      "cell_type": "code",
      "metadata": {
        "id": "VjZ8TgdiR_Du",
        "outputId": "3a6ca4b6-aa04-475c-e0f4-eca857064b4e",
        "colab": {
          "base_uri": "https://localhost:8080/"
        }
      },
      "source": [
        "import math\n",
        "print (\"Este programa resuelve ecuaciones de segundo grado por la formula general\")\n",
        "a = float(input(\"Ingrese el valor de a: \"))\n",
        "b = float(input(\"Ingrese el valor de b: \"))\n",
        "c = float(input(\"Ingrese el valor de c: \"))\n",
        "\n",
        "x = (b**2)-(4*a*c)\n",
        "if x<0:\n",
        "  print(\"Solucion en numeros complejos\")\n",
        "  a= float(input(\"Ingrese el valor de a: \"))\n",
        "  b= float(input(\"Ingrese el valor de b: \"))\n",
        "  c= float(input(\"ingrese el valor de c: \"))\n",
        "  print(\"x1=\", x1)\n",
        "  print(\"x2=\", x2)\n",
        "  x1= (-b)/(2*a)\n",
        "  print(\"x=\", x1)\n",
        "if x==0:\n",
        "  x1 =(-b)/(2*a)\n",
        "  print(\"x=\",x1)\n",
        "\n",
        "if x>0:\n",
        "      x1 = (-b + math.sqrt(x))/(2*a)\n",
        "      x2 = (-b - math.sqrt(x))/(2*a)\n",
        "\n",
        "      print(\"x1:\",x1)\n",
        "      print(\"x2:\",x2)"
      ],
      "execution_count": 11,
      "outputs": [
        {
          "output_type": "stream",
          "text": [
            "Este programa resuelve ecuaciones de segundo grado por la formula general\n",
            "Ingrese el valor de a: 5\n",
            "Ingrese el valor de b: 7\n",
            "Ingrese el valor de c: 9\n",
            "Solucion en numeros complejos\n",
            "Ingrese el valor de a: 7\n",
            "Ingrese el valor de b: 9\n",
            "ingrese el valor de c: 7\n",
            "x1= -1.0\n",
            "x2= -1.0\n",
            "x= -0.6428571428571429\n"
          ],
          "name": "stdout"
        }
      ]
    },
    {
      "cell_type": "markdown",
      "metadata": {
        "id": "tBz1iKOmoRg-"
      },
      "source": [
        "Ejercicio 2"
      ]
    },
    {
      "cell_type": "code",
      "metadata": {
        "id": "IeB5HQauso_U",
        "outputId": "708e4b4f-dfec-4650-8bab-57689c6b9dff",
        "colab": {
          "base_uri": "https://localhost:8080/"
        }
      },
      "source": [
        "print(\"sea: f(x)=e^(-x), -4<x<10\")\n",
        "def funcion(x):\n",
        "  f= (2.718281)**(-x)\n",
        "  return (f)\n",
        "\n",
        "x = float(input(\"Dame el valor de x:\"))\n",
        "print(\"f(x) \\t e^-x\")\n",
        "while x>-4 or x<10:\n",
        "  x+=1\n",
        "  ev=((2.718281)**(-(x)))\n",
        "  print(\"\", x, \"\\t\", ev)\n",
        "  if ev<=0.0025:\n",
        "    break\n",
        "print ()"
      ],
      "execution_count": 25,
      "outputs": [
        {
          "output_type": "stream",
          "text": [
            "sea: f(x)=e^(-x), -4<x<10\n",
            "Dame el valor de x:-5\n",
            "f(x) \t e^-x\n",
            " -4.0 \t 54.59808347299571\n",
            " -3.0 \t 20.085518558602185\n",
            " -2.0 \t 7.389051594961001\n",
            " -1.0 \t 2.718281\n",
            " 0.0 \t 1.0\n",
            " 1.0 \t 0.367879553291216\n",
            " 2.0 \t 0.13533536572974464\n",
            " 3.0 \t 0.0497871138891618\n",
            " 4.0 \t 0.018315661217203738\n",
            " 5.0 \t 0.0067379572668181615\n",
            " 6.0 \t 0.0024787567094123678\n",
            "\n"
          ],
          "name": "stdout"
        }
      ]
    }
  ]
}